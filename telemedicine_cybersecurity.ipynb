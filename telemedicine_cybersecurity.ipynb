{
  "nbformat": 4,
  "nbformat_minor": 0,
  "metadata": {
    "colab": {
      "provenance": [],
      "authorship_tag": "ABX9TyPE26qS8xprjAMVvzMFje4G",
      "include_colab_link": true
    },
    "kernelspec": {
      "name": "python3",
      "display_name": "Python 3"
    },
    "language_info": {
      "name": "python"
    }
  },
  "cells": [
    {
      "cell_type": "markdown",
      "metadata": {
        "id": "view-in-github",
        "colab_type": "text"
      },
      "source": [
        "<a href=\"https://colab.research.google.com/github/azrinsultana/advanced-web-teck-lab-performance/blob/main/telemedicine_cybersecurity.ipynb\" target=\"_parent\"><img src=\"https://colab.research.google.com/assets/colab-badge.svg\" alt=\"Open In Colab\"/></a>"
      ]
    },
    {
      "cell_type": "code",
      "execution_count": null,
      "metadata": {
        "colab": {
          "base_uri": "https://localhost:8080/",
          "height": 73
        },
        "id": "kEhVyL-MFAVp",
        "outputId": "bbcb0eeb-889b-461e-a659-83babfd7d9aa"
      },
      "outputs": [
        {
          "output_type": "display_data",
          "data": {
            "text/plain": [
              "<IPython.core.display.HTML object>"
            ],
            "text/html": [
              "\n",
              "     <input type=\"file\" id=\"files-d5dc530e-e82b-4b84-85e5-d36e8f41f9d0\" name=\"files[]\" multiple disabled\n",
              "        style=\"border:none\" />\n",
              "     <output id=\"result-d5dc530e-e82b-4b84-85e5-d36e8f41f9d0\">\n",
              "      Upload widget is only available when the cell has been executed in the\n",
              "      current browser session. Please rerun this cell to enable.\n",
              "      </output>\n",
              "      <script>// Copyright 2017 Google LLC\n",
              "//\n",
              "// Licensed under the Apache License, Version 2.0 (the \"License\");\n",
              "// you may not use this file except in compliance with the License.\n",
              "// You may obtain a copy of the License at\n",
              "//\n",
              "//      http://www.apache.org/licenses/LICENSE-2.0\n",
              "//\n",
              "// Unless required by applicable law or agreed to in writing, software\n",
              "// distributed under the License is distributed on an \"AS IS\" BASIS,\n",
              "// WITHOUT WARRANTIES OR CONDITIONS OF ANY KIND, either express or implied.\n",
              "// See the License for the specific language governing permissions and\n",
              "// limitations under the License.\n",
              "\n",
              "/**\n",
              " * @fileoverview Helpers for google.colab Python module.\n",
              " */\n",
              "(function(scope) {\n",
              "function span(text, styleAttributes = {}) {\n",
              "  const element = document.createElement('span');\n",
              "  element.textContent = text;\n",
              "  for (const key of Object.keys(styleAttributes)) {\n",
              "    element.style[key] = styleAttributes[key];\n",
              "  }\n",
              "  return element;\n",
              "}\n",
              "\n",
              "// Max number of bytes which will be uploaded at a time.\n",
              "const MAX_PAYLOAD_SIZE = 100 * 1024;\n",
              "\n",
              "function _uploadFiles(inputId, outputId) {\n",
              "  const steps = uploadFilesStep(inputId, outputId);\n",
              "  const outputElement = document.getElementById(outputId);\n",
              "  // Cache steps on the outputElement to make it available for the next call\n",
              "  // to uploadFilesContinue from Python.\n",
              "  outputElement.steps = steps;\n",
              "\n",
              "  return _uploadFilesContinue(outputId);\n",
              "}\n",
              "\n",
              "// This is roughly an async generator (not supported in the browser yet),\n",
              "// where there are multiple asynchronous steps and the Python side is going\n",
              "// to poll for completion of each step.\n",
              "// This uses a Promise to block the python side on completion of each step,\n",
              "// then passes the result of the previous step as the input to the next step.\n",
              "function _uploadFilesContinue(outputId) {\n",
              "  const outputElement = document.getElementById(outputId);\n",
              "  const steps = outputElement.steps;\n",
              "\n",
              "  const next = steps.next(outputElement.lastPromiseValue);\n",
              "  return Promise.resolve(next.value.promise).then((value) => {\n",
              "    // Cache the last promise value to make it available to the next\n",
              "    // step of the generator.\n",
              "    outputElement.lastPromiseValue = value;\n",
              "    return next.value.response;\n",
              "  });\n",
              "}\n",
              "\n",
              "/**\n",
              " * Generator function which is called between each async step of the upload\n",
              " * process.\n",
              " * @param {string} inputId Element ID of the input file picker element.\n",
              " * @param {string} outputId Element ID of the output display.\n",
              " * @return {!Iterable<!Object>} Iterable of next steps.\n",
              " */\n",
              "function* uploadFilesStep(inputId, outputId) {\n",
              "  const inputElement = document.getElementById(inputId);\n",
              "  inputElement.disabled = false;\n",
              "\n",
              "  const outputElement = document.getElementById(outputId);\n",
              "  outputElement.innerHTML = '';\n",
              "\n",
              "  const pickedPromise = new Promise((resolve) => {\n",
              "    inputElement.addEventListener('change', (e) => {\n",
              "      resolve(e.target.files);\n",
              "    });\n",
              "  });\n",
              "\n",
              "  const cancel = document.createElement('button');\n",
              "  inputElement.parentElement.appendChild(cancel);\n",
              "  cancel.textContent = 'Cancel upload';\n",
              "  const cancelPromise = new Promise((resolve) => {\n",
              "    cancel.onclick = () => {\n",
              "      resolve(null);\n",
              "    };\n",
              "  });\n",
              "\n",
              "  // Wait for the user to pick the files.\n",
              "  const files = yield {\n",
              "    promise: Promise.race([pickedPromise, cancelPromise]),\n",
              "    response: {\n",
              "      action: 'starting',\n",
              "    }\n",
              "  };\n",
              "\n",
              "  cancel.remove();\n",
              "\n",
              "  // Disable the input element since further picks are not allowed.\n",
              "  inputElement.disabled = true;\n",
              "\n",
              "  if (!files) {\n",
              "    return {\n",
              "      response: {\n",
              "        action: 'complete',\n",
              "      }\n",
              "    };\n",
              "  }\n",
              "\n",
              "  for (const file of files) {\n",
              "    const li = document.createElement('li');\n",
              "    li.append(span(file.name, {fontWeight: 'bold'}));\n",
              "    li.append(span(\n",
              "        `(${file.type || 'n/a'}) - ${file.size} bytes, ` +\n",
              "        `last modified: ${\n",
              "            file.lastModifiedDate ? file.lastModifiedDate.toLocaleDateString() :\n",
              "                                    'n/a'} - `));\n",
              "    const percent = span('0% done');\n",
              "    li.appendChild(percent);\n",
              "\n",
              "    outputElement.appendChild(li);\n",
              "\n",
              "    const fileDataPromise = new Promise((resolve) => {\n",
              "      const reader = new FileReader();\n",
              "      reader.onload = (e) => {\n",
              "        resolve(e.target.result);\n",
              "      };\n",
              "      reader.readAsArrayBuffer(file);\n",
              "    });\n",
              "    // Wait for the data to be ready.\n",
              "    let fileData = yield {\n",
              "      promise: fileDataPromise,\n",
              "      response: {\n",
              "        action: 'continue',\n",
              "      }\n",
              "    };\n",
              "\n",
              "    // Use a chunked sending to avoid message size limits. See b/62115660.\n",
              "    let position = 0;\n",
              "    do {\n",
              "      const length = Math.min(fileData.byteLength - position, MAX_PAYLOAD_SIZE);\n",
              "      const chunk = new Uint8Array(fileData, position, length);\n",
              "      position += length;\n",
              "\n",
              "      const base64 = btoa(String.fromCharCode.apply(null, chunk));\n",
              "      yield {\n",
              "        response: {\n",
              "          action: 'append',\n",
              "          file: file.name,\n",
              "          data: base64,\n",
              "        },\n",
              "      };\n",
              "\n",
              "      let percentDone = fileData.byteLength === 0 ?\n",
              "          100 :\n",
              "          Math.round((position / fileData.byteLength) * 100);\n",
              "      percent.textContent = `${percentDone}% done`;\n",
              "\n",
              "    } while (position < fileData.byteLength);\n",
              "  }\n",
              "\n",
              "  // All done.\n",
              "  yield {\n",
              "    response: {\n",
              "      action: 'complete',\n",
              "    }\n",
              "  };\n",
              "}\n",
              "\n",
              "scope.google = scope.google || {};\n",
              "scope.google.colab = scope.google.colab || {};\n",
              "scope.google.colab._files = {\n",
              "  _uploadFiles,\n",
              "  _uploadFilesContinue,\n",
              "};\n",
              "})(self);\n",
              "</script> "
            ]
          },
          "metadata": {}
        },
        {
          "output_type": "stream",
          "name": "stdout",
          "text": [
            "Saving updated.xlsx to updated (6).xlsx\n"
          ]
        }
      ],
      "source": [
        "from google.colab import files\n",
        "uploaded = files.upload()\n"
      ]
    },
    {
      "cell_type": "code",
      "source": [
        "\n",
        "import pandas as pd\n",
        "import io\n",
        "df = pd.read_excel(io.BytesIO(uploaded['updated (6).xlsx']))\n"
      ],
      "metadata": {
        "id": "1ZoGk3vTFswl"
      },
      "execution_count": null,
      "outputs": []
    },
    {
      "cell_type": "code",
      "source": [
        "df.describe()\n"
      ],
      "metadata": {
        "colab": {
          "base_uri": "https://localhost:8080/",
          "height": 345
        },
        "id": "h9Ogpm24GFPU",
        "outputId": "bcc558c9-456d-4ee0-d8bf-5a7135a662c9"
      },
      "execution_count": null,
      "outputs": [
        {
          "output_type": "execute_result",
          "data": {
            "text/plain": [
              "       Gender          Age Education   disease using_telemedicine_services  \\\n",
              "count     108          108       108       108                         108   \n",
              "unique      2            4         6        17                          65   \n",
              "top      Male  40-60 years   Masters  Diabetes      Just started this week   \n",
              "freq       54           30        26        15                           6   \n",
              "\n",
              "       recommend_hospital training_received data_secure  \\\n",
              "count                 108               108         108   \n",
              "unique                  2                 2           2   \n",
              "top                   Yes                No         Yes   \n",
              "freq                   58                56          57   \n",
              "\n",
              "       like_more _conventional  data_third-party   ...  \\\n",
              "count                       108               108  ...   \n",
              "unique                        3                 2  ...   \n",
              "top                         Yes                No  ...   \n",
              "freq                         43                57  ...   \n",
              "\n",
              "       consent _sessions)record  \\\n",
              "count                       108   \n",
              "unique                        3   \n",
              "top                    Not Sure   \n",
              "freq                         39   \n",
              "\n",
              "                   What PHI-related risks are disclosed?  \\\n",
              "count                                                108   \n",
              "unique                                                 6   \n",
              "top     Possibility of data breaches during transmission   \n",
              "freq                                                  25   \n",
              "\n",
              "           care_about_misuse                     seek_permission  \\\n",
              "count                    108                                 108   \n",
              "unique                     5                                   4   \n",
              "top     Strongly do not care  Yes, through written consent forms   \n",
              "freq                      26                                  34   \n",
              "\n",
              "       cybersecurity_concern     data-leak-concern   trust_in_telemed  \\\n",
              "count                    108                   108                108   \n",
              "unique                     3                     5                  5   \n",
              "top                      Yes  Not concerned at all  Strongly Disagree   \n",
              "freq                      44                    25                 26   \n",
              "\n",
              "             responsible-securty security_regulation_belief\\t service-rating  \n",
              "count                        108                          108            108  \n",
              "unique                         4                            4              5  \n",
              "top     Healthcare professionals                Not confident           Fair  \n",
              "freq                          36                           33             27  \n",
              "\n",
              "[4 rows x 24 columns]"
            ],
            "text/html": [
              "\n",
              "  <div id=\"df-fa55ba6f-4435-4309-8cd9-17a239556f65\" class=\"colab-df-container\">\n",
              "    <div>\n",
              "<style scoped>\n",
              "    .dataframe tbody tr th:only-of-type {\n",
              "        vertical-align: middle;\n",
              "    }\n",
              "\n",
              "    .dataframe tbody tr th {\n",
              "        vertical-align: top;\n",
              "    }\n",
              "\n",
              "    .dataframe thead th {\n",
              "        text-align: right;\n",
              "    }\n",
              "</style>\n",
              "<table border=\"1\" class=\"dataframe\">\n",
              "  <thead>\n",
              "    <tr style=\"text-align: right;\">\n",
              "      <th></th>\n",
              "      <th>Gender</th>\n",
              "      <th>Age</th>\n",
              "      <th>Education</th>\n",
              "      <th>disease</th>\n",
              "      <th>using_telemedicine_services</th>\n",
              "      <th>recommend_hospital</th>\n",
              "      <th>training_received</th>\n",
              "      <th>data_secure</th>\n",
              "      <th>like_more _conventional</th>\n",
              "      <th>data_third-party</th>\n",
              "      <th>...</th>\n",
              "      <th>consent _sessions)record</th>\n",
              "      <th>What PHI-related risks are disclosed?</th>\n",
              "      <th>care_about_misuse</th>\n",
              "      <th>seek_permission</th>\n",
              "      <th>cybersecurity_concern</th>\n",
              "      <th>data-leak-concern</th>\n",
              "      <th>trust_in_telemed</th>\n",
              "      <th>responsible-securty</th>\n",
              "      <th>security_regulation_belief\\t</th>\n",
              "      <th>service-rating</th>\n",
              "    </tr>\n",
              "  </thead>\n",
              "  <tbody>\n",
              "    <tr>\n",
              "      <th>count</th>\n",
              "      <td>108</td>\n",
              "      <td>108</td>\n",
              "      <td>108</td>\n",
              "      <td>108</td>\n",
              "      <td>108</td>\n",
              "      <td>108</td>\n",
              "      <td>108</td>\n",
              "      <td>108</td>\n",
              "      <td>108</td>\n",
              "      <td>108</td>\n",
              "      <td>...</td>\n",
              "      <td>108</td>\n",
              "      <td>108</td>\n",
              "      <td>108</td>\n",
              "      <td>108</td>\n",
              "      <td>108</td>\n",
              "      <td>108</td>\n",
              "      <td>108</td>\n",
              "      <td>108</td>\n",
              "      <td>108</td>\n",
              "      <td>108</td>\n",
              "    </tr>\n",
              "    <tr>\n",
              "      <th>unique</th>\n",
              "      <td>2</td>\n",
              "      <td>4</td>\n",
              "      <td>6</td>\n",
              "      <td>17</td>\n",
              "      <td>65</td>\n",
              "      <td>2</td>\n",
              "      <td>2</td>\n",
              "      <td>2</td>\n",
              "      <td>3</td>\n",
              "      <td>2</td>\n",
              "      <td>...</td>\n",
              "      <td>3</td>\n",
              "      <td>6</td>\n",
              "      <td>5</td>\n",
              "      <td>4</td>\n",
              "      <td>3</td>\n",
              "      <td>5</td>\n",
              "      <td>5</td>\n",
              "      <td>4</td>\n",
              "      <td>4</td>\n",
              "      <td>5</td>\n",
              "    </tr>\n",
              "    <tr>\n",
              "      <th>top</th>\n",
              "      <td>Male</td>\n",
              "      <td>40-60 years</td>\n",
              "      <td>Masters</td>\n",
              "      <td>Diabetes</td>\n",
              "      <td>Just started this week</td>\n",
              "      <td>Yes</td>\n",
              "      <td>No</td>\n",
              "      <td>Yes</td>\n",
              "      <td>Yes</td>\n",
              "      <td>No</td>\n",
              "      <td>...</td>\n",
              "      <td>Not Sure</td>\n",
              "      <td>Possibility of data breaches during transmission</td>\n",
              "      <td>Strongly do not care</td>\n",
              "      <td>Yes, through written consent forms</td>\n",
              "      <td>Yes</td>\n",
              "      <td>Not concerned at all</td>\n",
              "      <td>Strongly Disagree</td>\n",
              "      <td>Healthcare professionals</td>\n",
              "      <td>Not confident</td>\n",
              "      <td>Fair</td>\n",
              "    </tr>\n",
              "    <tr>\n",
              "      <th>freq</th>\n",
              "      <td>54</td>\n",
              "      <td>30</td>\n",
              "      <td>26</td>\n",
              "      <td>15</td>\n",
              "      <td>6</td>\n",
              "      <td>58</td>\n",
              "      <td>56</td>\n",
              "      <td>57</td>\n",
              "      <td>43</td>\n",
              "      <td>57</td>\n",
              "      <td>...</td>\n",
              "      <td>39</td>\n",
              "      <td>25</td>\n",
              "      <td>26</td>\n",
              "      <td>34</td>\n",
              "      <td>44</td>\n",
              "      <td>25</td>\n",
              "      <td>26</td>\n",
              "      <td>36</td>\n",
              "      <td>33</td>\n",
              "      <td>27</td>\n",
              "    </tr>\n",
              "  </tbody>\n",
              "</table>\n",
              "<p>4 rows × 24 columns</p>\n",
              "</div>\n",
              "    <div class=\"colab-df-buttons\">\n",
              "\n",
              "  <div class=\"colab-df-container\">\n",
              "    <button class=\"colab-df-convert\" onclick=\"convertToInteractive('df-fa55ba6f-4435-4309-8cd9-17a239556f65')\"\n",
              "            title=\"Convert this dataframe to an interactive table.\"\n",
              "            style=\"display:none;\">\n",
              "\n",
              "  <svg xmlns=\"http://www.w3.org/2000/svg\" height=\"24px\" viewBox=\"0 -960 960 960\">\n",
              "    <path d=\"M120-120v-720h720v720H120Zm60-500h600v-160H180v160Zm220 220h160v-160H400v160Zm0 220h160v-160H400v160ZM180-400h160v-160H180v160Zm440 0h160v-160H620v160ZM180-180h160v-160H180v160Zm440 0h160v-160H620v160Z\"/>\n",
              "  </svg>\n",
              "    </button>\n",
              "\n",
              "  <style>\n",
              "    .colab-df-container {\n",
              "      display:flex;\n",
              "      gap: 12px;\n",
              "    }\n",
              "\n",
              "    .colab-df-convert {\n",
              "      background-color: #E8F0FE;\n",
              "      border: none;\n",
              "      border-radius: 50%;\n",
              "      cursor: pointer;\n",
              "      display: none;\n",
              "      fill: #1967D2;\n",
              "      height: 32px;\n",
              "      padding: 0 0 0 0;\n",
              "      width: 32px;\n",
              "    }\n",
              "\n",
              "    .colab-df-convert:hover {\n",
              "      background-color: #E2EBFA;\n",
              "      box-shadow: 0px 1px 2px rgba(60, 64, 67, 0.3), 0px 1px 3px 1px rgba(60, 64, 67, 0.15);\n",
              "      fill: #174EA6;\n",
              "    }\n",
              "\n",
              "    .colab-df-buttons div {\n",
              "      margin-bottom: 4px;\n",
              "    }\n",
              "\n",
              "    [theme=dark] .colab-df-convert {\n",
              "      background-color: #3B4455;\n",
              "      fill: #D2E3FC;\n",
              "    }\n",
              "\n",
              "    [theme=dark] .colab-df-convert:hover {\n",
              "      background-color: #434B5C;\n",
              "      box-shadow: 0px 1px 3px 1px rgba(0, 0, 0, 0.15);\n",
              "      filter: drop-shadow(0px 1px 2px rgba(0, 0, 0, 0.3));\n",
              "      fill: #FFFFFF;\n",
              "    }\n",
              "  </style>\n",
              "\n",
              "    <script>\n",
              "      const buttonEl =\n",
              "        document.querySelector('#df-fa55ba6f-4435-4309-8cd9-17a239556f65 button.colab-df-convert');\n",
              "      buttonEl.style.display =\n",
              "        google.colab.kernel.accessAllowed ? 'block' : 'none';\n",
              "\n",
              "      async function convertToInteractive(key) {\n",
              "        const element = document.querySelector('#df-fa55ba6f-4435-4309-8cd9-17a239556f65');\n",
              "        const dataTable =\n",
              "          await google.colab.kernel.invokeFunction('convertToInteractive',\n",
              "                                                    [key], {});\n",
              "        if (!dataTable) return;\n",
              "\n",
              "        const docLinkHtml = 'Like what you see? Visit the ' +\n",
              "          '<a target=\"_blank\" href=https://colab.research.google.com/notebooks/data_table.ipynb>data table notebook</a>'\n",
              "          + ' to learn more about interactive tables.';\n",
              "        element.innerHTML = '';\n",
              "        dataTable['output_type'] = 'display_data';\n",
              "        await google.colab.output.renderOutput(dataTable, element);\n",
              "        const docLink = document.createElement('div');\n",
              "        docLink.innerHTML = docLinkHtml;\n",
              "        element.appendChild(docLink);\n",
              "      }\n",
              "    </script>\n",
              "  </div>\n",
              "\n",
              "\n",
              "    <div id=\"df-515fbfef-1457-4d28-b0b3-3d5276cdb714\">\n",
              "      <button class=\"colab-df-quickchart\" onclick=\"quickchart('df-515fbfef-1457-4d28-b0b3-3d5276cdb714')\"\n",
              "                title=\"Suggest charts\"\n",
              "                style=\"display:none;\">\n",
              "\n",
              "<svg xmlns=\"http://www.w3.org/2000/svg\" height=\"24px\"viewBox=\"0 0 24 24\"\n",
              "     width=\"24px\">\n",
              "    <g>\n",
              "        <path d=\"M19 3H5c-1.1 0-2 .9-2 2v14c0 1.1.9 2 2 2h14c1.1 0 2-.9 2-2V5c0-1.1-.9-2-2-2zM9 17H7v-7h2v7zm4 0h-2V7h2v10zm4 0h-2v-4h2v4z\"/>\n",
              "    </g>\n",
              "</svg>\n",
              "      </button>\n",
              "\n",
              "<style>\n",
              "  .colab-df-quickchart {\n",
              "      --bg-color: #E8F0FE;\n",
              "      --fill-color: #1967D2;\n",
              "      --hover-bg-color: #E2EBFA;\n",
              "      --hover-fill-color: #174EA6;\n",
              "      --disabled-fill-color: #AAA;\n",
              "      --disabled-bg-color: #DDD;\n",
              "  }\n",
              "\n",
              "  [theme=dark] .colab-df-quickchart {\n",
              "      --bg-color: #3B4455;\n",
              "      --fill-color: #D2E3FC;\n",
              "      --hover-bg-color: #434B5C;\n",
              "      --hover-fill-color: #FFFFFF;\n",
              "      --disabled-bg-color: #3B4455;\n",
              "      --disabled-fill-color: #666;\n",
              "  }\n",
              "\n",
              "  .colab-df-quickchart {\n",
              "    background-color: var(--bg-color);\n",
              "    border: none;\n",
              "    border-radius: 50%;\n",
              "    cursor: pointer;\n",
              "    display: none;\n",
              "    fill: var(--fill-color);\n",
              "    height: 32px;\n",
              "    padding: 0;\n",
              "    width: 32px;\n",
              "  }\n",
              "\n",
              "  .colab-df-quickchart:hover {\n",
              "    background-color: var(--hover-bg-color);\n",
              "    box-shadow: 0 1px 2px rgba(60, 64, 67, 0.3), 0 1px 3px 1px rgba(60, 64, 67, 0.15);\n",
              "    fill: var(--button-hover-fill-color);\n",
              "  }\n",
              "\n",
              "  .colab-df-quickchart-complete:disabled,\n",
              "  .colab-df-quickchart-complete:disabled:hover {\n",
              "    background-color: var(--disabled-bg-color);\n",
              "    fill: var(--disabled-fill-color);\n",
              "    box-shadow: none;\n",
              "  }\n",
              "\n",
              "  .colab-df-spinner {\n",
              "    border: 2px solid var(--fill-color);\n",
              "    border-color: transparent;\n",
              "    border-bottom-color: var(--fill-color);\n",
              "    animation:\n",
              "      spin 1s steps(1) infinite;\n",
              "  }\n",
              "\n",
              "  @keyframes spin {\n",
              "    0% {\n",
              "      border-color: transparent;\n",
              "      border-bottom-color: var(--fill-color);\n",
              "      border-left-color: var(--fill-color);\n",
              "    }\n",
              "    20% {\n",
              "      border-color: transparent;\n",
              "      border-left-color: var(--fill-color);\n",
              "      border-top-color: var(--fill-color);\n",
              "    }\n",
              "    30% {\n",
              "      border-color: transparent;\n",
              "      border-left-color: var(--fill-color);\n",
              "      border-top-color: var(--fill-color);\n",
              "      border-right-color: var(--fill-color);\n",
              "    }\n",
              "    40% {\n",
              "      border-color: transparent;\n",
              "      border-right-color: var(--fill-color);\n",
              "      border-top-color: var(--fill-color);\n",
              "    }\n",
              "    60% {\n",
              "      border-color: transparent;\n",
              "      border-right-color: var(--fill-color);\n",
              "    }\n",
              "    80% {\n",
              "      border-color: transparent;\n",
              "      border-right-color: var(--fill-color);\n",
              "      border-bottom-color: var(--fill-color);\n",
              "    }\n",
              "    90% {\n",
              "      border-color: transparent;\n",
              "      border-bottom-color: var(--fill-color);\n",
              "    }\n",
              "  }\n",
              "</style>\n",
              "\n",
              "      <script>\n",
              "        async function quickchart(key) {\n",
              "          const quickchartButtonEl =\n",
              "            document.querySelector('#' + key + ' button');\n",
              "          quickchartButtonEl.disabled = true;  // To prevent multiple clicks.\n",
              "          quickchartButtonEl.classList.add('colab-df-spinner');\n",
              "          try {\n",
              "            const charts = await google.colab.kernel.invokeFunction(\n",
              "                'suggestCharts', [key], {});\n",
              "          } catch (error) {\n",
              "            console.error('Error during call to suggestCharts:', error);\n",
              "          }\n",
              "          quickchartButtonEl.classList.remove('colab-df-spinner');\n",
              "          quickchartButtonEl.classList.add('colab-df-quickchart-complete');\n",
              "        }\n",
              "        (() => {\n",
              "          let quickchartButtonEl =\n",
              "            document.querySelector('#df-515fbfef-1457-4d28-b0b3-3d5276cdb714 button');\n",
              "          quickchartButtonEl.style.display =\n",
              "            google.colab.kernel.accessAllowed ? 'block' : 'none';\n",
              "        })();\n",
              "      </script>\n",
              "    </div>\n",
              "\n",
              "    </div>\n",
              "  </div>\n"
            ],
            "application/vnd.google.colaboratory.intrinsic+json": {
              "type": "dataframe"
            }
          },
          "metadata": {},
          "execution_count": 3
        }
      ]
    },
    {
      "cell_type": "code",
      "source": [
        "df.columns"
      ],
      "metadata": {
        "colab": {
          "base_uri": "https://localhost:8080/"
        },
        "id": "4-U_2AAMdRhY",
        "outputId": "43f824a9-9d97-40c7-b996-ae8f2feec2f4"
      },
      "execution_count": null,
      "outputs": [
        {
          "output_type": "execute_result",
          "data": {
            "text/plain": [
              "Index(['Unnamed: 0', 'Gender', 'Age', 'Education', 'disease',\n",
              "       'using_telemedicine_services', 'recommend_hospital',\n",
              "       'training_received', 'data_secure', 'like_more _conventional ',\n",
              "       'data_third-party ', ' promotional_messages_hospital',\n",
              "       'promotional_messages-other', 'consent_type', 'consent_privacy',\n",
              "       'consent _sessions)record', 'What PHI-related risks are disclosed?',\n",
              "       'care_about_misuse', ' seek_permission', 'cybersecurity_concern',\n",
              "       'data-leak-concern', 'trust_in_telemed', 'responsible-securty',\n",
              "       'security_regulation_belief\\t', 'service-rating'],\n",
              "      dtype='object')"
            ]
          },
          "metadata": {},
          "execution_count": 73
        }
      ]
    },
    {
      "cell_type": "code",
      "source": [
        "num_categories = df['Gender'].nunique()\n",
        "print(\"Total categories:\", num_categories)\n",
        "print(\"value number\",df['Gender'].value_counts())\n",
        "percentage_counts = df['Gender'].value_counts(normalize=True) * 100\n",
        "print(percentage_counts)\n"
      ],
      "metadata": {
        "colab": {
          "base_uri": "https://localhost:8080/"
        },
        "id": "cpuzb24FGnG9",
        "outputId": "063789ee-f9c5-4408-a4e5-aac9d51e7428"
      },
      "execution_count": null,
      "outputs": [
        {
          "output_type": "stream",
          "name": "stdout",
          "text": [
            "Total categories: 2\n",
            "value number Gender\n",
            "Male      66\n",
            "Female    42\n",
            "Name: count, dtype: int64\n",
            "Gender\n",
            "Male      61.111111\n",
            "Female    38.888889\n",
            "Name: proportion, dtype: float64\n"
          ]
        }
      ]
    },
    {
      "cell_type": "code",
      "source": [
        "num_categories = df['Age'].nunique()\n",
        "print(\"Total categories:\", num_categories)\n",
        "print(\"value number\",df['Age'].value_counts())\n",
        "percentage_counts = df['Age'].value_counts(normalize=True) * 100\n",
        "print(percentage_counts)"
      ],
      "metadata": {
        "colab": {
          "base_uri": "https://localhost:8080/"
        },
        "id": "Ljij6wx9HpsM",
        "outputId": "53eac034-9989-4e10-d306-6d00b34800ac"
      },
      "execution_count": null,
      "outputs": [
        {
          "output_type": "stream",
          "name": "stdout",
          "text": [
            "Total categories: 4\n",
            "value number Age\n",
            "40-60 years       30\n",
            "Below 20          27\n",
            "Above 60 years    27\n",
            "20 - 40 years     24\n",
            "Name: count, dtype: int64\n",
            "Age\n",
            "40-60 years       27.777778\n",
            "Below 20          25.000000\n",
            "Above 60 years    25.000000\n",
            "20 - 40 years     22.222222\n",
            "Name: proportion, dtype: float64\n"
          ]
        }
      ]
    },
    {
      "cell_type": "code",
      "source": [
        "df['Age'] = df['Age'].replace({\n",
        "    'Below 20': 1,\n",
        "    '20 - 40 years': 2,\n",
        "    '40-60 years': 3,\n",
        "    'Above 60 years': 4\n",
        "}).infer_objects(copy=False)"
      ],
      "metadata": {
        "colab": {
          "base_uri": "https://localhost:8080/"
        },
        "id": "2xZ8VeCC3tdP",
        "outputId": "a52f178b-7aa4-4545-8a69-af8fb786e440"
      },
      "execution_count": null,
      "outputs": [
        {
          "output_type": "stream",
          "name": "stderr",
          "text": [
            "/tmp/ipython-input-28-1014614911.py:1: FutureWarning: Downcasting behavior in `replace` is deprecated and will be removed in a future version. To retain the old behavior, explicitly call `result.infer_objects(copy=False)`. To opt-in to the future behavior, set `pd.set_option('future.no_silent_downcasting', True)`\n",
            "  df['Age'] = df['Age'].replace({\n"
          ]
        }
      ]
    },
    {
      "cell_type": "code",
      "source": [
        "num_categories = df['Education'].nunique()\n",
        "print(\"Total categories:\", num_categories)\n",
        "print(\"value number\",df['Education'].value_counts())\n",
        "percentage_counts = df['Education'].value_counts(normalize=True) * 100\n",
        "print(percentage_counts)\n",
        "df['Education'].replace({'Illiterate': 1, 'HSC': 2, 'Bachelor': 3, 'Masters': 4, 'PhD': 5}, inplace=True)\n",
        "df['Education'] = df['Education'].infer_objects(copy=False)"
      ],
      "metadata": {
        "colab": {
          "base_uri": "https://localhost:8080/"
        },
        "id": "DA9Rq1F9dejC",
        "outputId": "6efa5eee-eb62-4d04-cea4-0bc636a584df"
      },
      "execution_count": null,
      "outputs": [
        {
          "output_type": "stream",
          "name": "stdout",
          "text": [
            "Total categories: 5\n",
            "value number Education\n",
            "3    37\n",
            "4    21\n",
            "2    20\n",
            "1    17\n",
            "5    13\n",
            "Name: count, dtype: int64\n",
            "Education\n",
            "3    34.259259\n",
            "4    19.444444\n",
            "2    18.518519\n",
            "1    15.740741\n",
            "5    12.037037\n",
            "Name: proportion, dtype: float64\n"
          ]
        },
        {
          "output_type": "stream",
          "name": "stderr",
          "text": [
            "/tmp/ipython-input-26-3289618676.py:6: FutureWarning: A value is trying to be set on a copy of a DataFrame or Series through chained assignment using an inplace method.\n",
            "The behavior will change in pandas 3.0. This inplace method will never work because the intermediate object on which we are setting values always behaves as a copy.\n",
            "\n",
            "For example, when doing 'df[col].method(value, inplace=True)', try using 'df.method({col: value}, inplace=True)' or df[col] = df[col].method(value) instead, to perform the operation inplace on the original object.\n",
            "\n",
            "\n",
            "  df['Education'].replace({'Illiterate': 1, 'HSC': 2, 'Bachelor': 3, 'Masters': 4, 'PhD': 5}, inplace=True)\n"
          ]
        }
      ]
    },
    {
      "cell_type": "code",
      "source": [
        "df['Education'] = df['Education'].replace({'Illiterate': 1, 'HSC': 2, 'Bachelor': 3, 'Masters': 4, 'PhD': 5}).infer_objects(copy=False)"
      ],
      "metadata": {
        "id": "L7dKyHeA3kdZ"
      },
      "execution_count": null,
      "outputs": []
    },
    {
      "cell_type": "code",
      "source": [
        "num_categories = df['data-leak-concern'].nunique()\n",
        "print(\"Total categories:\", num_categories)\n",
        "print(\"value number\",df['data-leak-concern'].value_counts())\n",
        "percentage_counts = df['data-leak-concern'].value_counts(normalize=True) * 100\n",
        "print(percentage_counts)"
      ],
      "metadata": {
        "colab": {
          "base_uri": "https://localhost:8080/"
        },
        "id": "5RlustuwIlYe",
        "outputId": "0079bb05-9288-4091-c7f7-222d527a7d8e"
      },
      "execution_count": null,
      "outputs": [
        {
          "output_type": "stream",
          "name": "stdout",
          "text": [
            "Total categories: 5\n",
            "value number data-leak-concern\n",
            "Not concerned at all    25\n",
            "Moderately concerned    24\n",
            "Slightly concerned      22\n",
            "Extremly concerned      21\n",
            "Very concerned          16\n",
            "Name: count, dtype: int64\n",
            "data-leak-concern\n",
            "Not concerned at all    23.148148\n",
            "Moderately concerned    22.222222\n",
            "Slightly concerned      20.370370\n",
            "Extremly concerned      19.444444\n",
            "Very concerned          14.814815\n",
            "Name: proportion, dtype: float64\n"
          ]
        }
      ]
    },
    {
      "cell_type": "code",
      "source": [
        "df['data-leak-concern'] = df['data-leak-concern'].replace({'Not concerned at all': 1, 'Slightly concerned': 2, 'Moderately concerned': 3, 'Very concerned': 4, 'Extremly concerned': 5}).infer_objects(copy=False)"
      ],
      "metadata": {
        "colab": {
          "base_uri": "https://localhost:8080/"
        },
        "id": "S2wQ7LQ7It2R",
        "outputId": "3639dc5a-605a-4865-9155-6d4133ae29a7"
      },
      "execution_count": null,
      "outputs": [
        {
          "output_type": "stream",
          "name": "stderr",
          "text": [
            "/tmp/ipython-input-30-1638772346.py:1: FutureWarning: Downcasting behavior in `replace` is deprecated and will be removed in a future version. To retain the old behavior, explicitly call `result.infer_objects(copy=False)`. To opt-in to the future behavior, set `pd.set_option('future.no_silent_downcasting', True)`\n",
            "  df['data-leak-concern'] = df['data-leak-concern'].replace({'Not concerned at all': 1, 'Slightly concerned': 2, 'Moderately concerned': 3, 'Very concerned': 4, 'Extremly concerned': 5}).infer_objects(copy=False)\n"
          ]
        }
      ]
    },
    {
      "cell_type": "code",
      "source": [
        "from scipy.stats import f_oneway\n",
        "\n",
        "# Run one-way ANOVA\n",
        "f_stat, p_value = f_oneway(\n",
        "    df[df['Education'] == 1]['data-leak-concern'],\n",
        "    df[df['Education'] == 2]['data-leak-concern'],\n",
        "    df[df['Education'] == 3]['data-leak-concern'],\n",
        "    df[df['Education'] == 4]['data-leak-concern'],\n",
        "    df[df['Education'] == 5]['data-leak-concern']\n",
        ")\n",
        "\n",
        "print(\"ANOVA result (concern_score by education):\")\n",
        "print(\"F-statistic:\", f_stat)\n",
        "print(\"p-value:\", p_value)"
      ],
      "metadata": {
        "colab": {
          "base_uri": "https://localhost:8080/"
        },
        "id": "aftKSREa87im",
        "outputId": "9fd26e7d-5d44-4d2e-aa01-f9d01d0b648d"
      },
      "execution_count": null,
      "outputs": [
        {
          "output_type": "stream",
          "name": "stdout",
          "text": [
            "ANOVA result (concern_score by education):\n",
            "F-statistic: 0.374027561038072\n",
            "p-value: 0.8266976588660142\n"
          ]
        }
      ]
    },
    {
      "cell_type": "code",
      "source": [
        "from scipy.stats import kruskal\n",
        "\n",
        "# Prepare groups\n",
        "group1 = df[df['Education'] == 1]['data-leak-concern']\n",
        "group2 = df[df['Education'] == 2]['data-leak-concern']\n",
        "group3 = df[df['Education'] == 3]['data-leak-concern']\n",
        "group4 = df[df['Education'] == 4]['data-leak-concern']\n",
        "group5 = df[df['Education'] == 5]['data-leak-concern']\n",
        "\n",
        "# Run Kruskal-Wallis test\n",
        "h_stat, p_value = kruskal(group1, group2, group3, group4, group5)\n",
        "\n",
        "print(\"Kruskal-Wallis Test:\")\n",
        "print(\"H-statistic:\", h_stat)\n",
        "print(\"p-value:\", p_value)\n"
      ],
      "metadata": {
        "colab": {
          "base_uri": "https://localhost:8080/"
        },
        "id": "u3_CxeXJKeEh",
        "outputId": "b7aef6fb-dfd4-43dc-c734-2e08300fa7b4"
      },
      "execution_count": null,
      "outputs": [
        {
          "output_type": "stream",
          "name": "stdout",
          "text": [
            "Kruskal-Wallis Test:\n",
            "H-statistic: 1.6915980314774977\n",
            "p-value: 0.7922432811763583\n"
          ]
        }
      ]
    },
    {
      "cell_type": "code",
      "source": [
        "num_categories = df['training_received'].nunique()\n",
        "print(\"Total categories:\", num_categories)\n",
        "print(\"value number\",df['training_received'].value_counts())\n",
        "percentage_counts = df['training_received'].value_counts(normalize=True) * 100\n",
        "print(percentage_counts)\n"
      ],
      "metadata": {
        "colab": {
          "base_uri": "https://localhost:8080/"
        },
        "id": "rvz94r4NLtrv",
        "outputId": "9cbdb784-d8e6-49db-cfed-b3c473d3b205"
      },
      "execution_count": null,
      "outputs": [
        {
          "output_type": "stream",
          "name": "stdout",
          "text": [
            "Total categories: 2\n",
            "value number training_received\n",
            "No     56\n",
            "Yes    52\n",
            "Name: count, dtype: int64\n",
            "training_received\n",
            "No     51.851852\n",
            "Yes    48.148148\n",
            "Name: proportion, dtype: float64\n"
          ]
        }
      ]
    },
    {
      "cell_type": "code",
      "source": [
        "df['training_received'] = df['training_received'].replace({'Yes': 1, 'No': 0}).infer_objects(copy=False)"
      ],
      "metadata": {
        "colab": {
          "base_uri": "https://localhost:8080/"
        },
        "id": "s1Z3ZoG7MaZO",
        "outputId": "bc97797e-5078-4263-b0db-ad16f8204b1f"
      },
      "execution_count": null,
      "outputs": [
        {
          "output_type": "stream",
          "name": "stderr",
          "text": [
            "/tmp/ipython-input-34-3944949175.py:1: FutureWarning: Downcasting behavior in `replace` is deprecated and will be removed in a future version. To retain the old behavior, explicitly call `result.infer_objects(copy=False)`. To opt-in to the future behavior, set `pd.set_option('future.no_silent_downcasting', True)`\n",
            "  df['training_received'] = df['training_received'].replace({'Yes': 1, 'No': 0}).infer_objects(copy=False)\n"
          ]
        }
      ]
    },
    {
      "cell_type": "code",
      "source": [
        "from scipy.stats import f_oneway\n",
        "\n",
        "f_stat, p_value = f_oneway(\n",
        "    df[df['training_received'] == 1]['data-leak-concern'],\n",
        "    df[df['training_received'] == 0]['data-leak-concern']\n",
        ")\n",
        "\n",
        "print(\"ANOVA result (concern_score by education):\")\n",
        "print(\"F-statistic:\", f_stat)\n",
        "print(\"p-value:\", p_value)"
      ],
      "metadata": {
        "colab": {
          "base_uri": "https://localhost:8080/"
        },
        "id": "U6vAJp67M0oF",
        "outputId": "079d04bd-bc7c-4f1d-f55c-e73401459d7e"
      },
      "execution_count": null,
      "outputs": [
        {
          "output_type": "stream",
          "name": "stdout",
          "text": [
            "ANOVA result (concern_score by education):\n",
            "F-statistic: 1.5531736319177765\n",
            "p-value: 0.21541478177992887\n"
          ]
        }
      ]
    },
    {
      "cell_type": "code",
      "source": [
        "from scipy.stats import kruskal\n",
        "\n",
        "# Prepare groups\n",
        "group1 = df[df['training_received'] == 1]['data-leak-concern']\n",
        "group2 = df[df['training_received'] == 0]['data-leak-concern']\n",
        "\n",
        "\n",
        "# Run Kruskal-Wallis test\n",
        "h_stat, p_value = kruskal(group1, group2, group3, group4, group5)\n",
        "\n",
        "print(\"Kruskal-Wallis Test:\")\n",
        "print(\"H-statistic:\", h_stat)\n",
        "print(\"p-value:\", p_value)"
      ],
      "metadata": {
        "colab": {
          "base_uri": "https://localhost:8080/"
        },
        "id": "lusVPTUENG4Z",
        "outputId": "d27c05ba-2b27-4fcd-b4bb-00b8ee333aee"
      },
      "execution_count": null,
      "outputs": [
        {
          "output_type": "stream",
          "name": "stdout",
          "text": [
            "Kruskal-Wallis Test:\n",
            "H-statistic: 1.8505805627564762\n",
            "p-value: 0.7632165077077794\n"
          ]
        }
      ]
    },
    {
      "cell_type": "code",
      "source": [
        "from scipy.stats import mannwhitneyu\n",
        "\n",
        "trained = df[df['training_received'] == 1]['data-leak-concern']\n",
        "untrained = df[df['training_received'] == 0]['data-leak-concern']\n",
        "\n",
        "u_stat, p_value = mannwhitneyu(trained, untrained)\n",
        "print(\"Mann–Whitney U test:\")\n",
        "print(\"U-statistic:\", u_stat)\n",
        "print(\"p-value:\", p_value)"
      ],
      "metadata": {
        "colab": {
          "base_uri": "https://localhost:8080/"
        },
        "id": "-GSpk7KQOIIm",
        "outputId": "b15297f1-310e-42f3-e241-7ab5a6412943"
      },
      "execution_count": null,
      "outputs": [
        {
          "output_type": "stream",
          "name": "stdout",
          "text": [
            "Mann–Whitney U test:\n",
            "U-statistic: 1268.0\n",
            "p-value: 0.05\n"
          ]
        }
      ]
    },
    {
      "cell_type": "code",
      "source": [
        "from scipy.stats import f_oneway\n",
        "\n",
        "f_stat, p_value = f_oneway(\n",
        "    df[df['Age'] == 1]['data-leak-concern'],\n",
        "    df[df['Age'] == 2]['data-leak-concern'],\n",
        "    df[df['Age'] == 3]['data-leak-concern'],\n",
        "    df[df['Age'] == 4]['data-leak-concern']\n",
        ")\n",
        "print(\"ANOVA result (concern_score by education):\")\n",
        "print(\"F-statistic:\", f_stat)\n",
        "print(\"p-value:\", p_value)"
      ],
      "metadata": {
        "colab": {
          "base_uri": "https://localhost:8080/"
        },
        "id": "w9WVZcvGV_kP",
        "outputId": "de8962aa-ac73-45b7-d293-b4a9f979564e"
      },
      "execution_count": null,
      "outputs": [
        {
          "output_type": "stream",
          "name": "stdout",
          "text": [
            "ANOVA result (concern_score by education):\n",
            "F-statistic: 1.273158482142857\n",
            "p-value: 0.003\n"
          ]
        }
      ]
    },
    {
      "cell_type": "code",
      "source": [
        "from statsmodels.stats.multicomp import pairwise_tukeyhsd\n",
        "\n",
        "# Tukey HSD for post-hoc comparison\n",
        "tukey = pairwise_tukeyhsd(endog=df['data-leak-concern'],\n",
        "                          groups=df['Age'],\n",
        "                          alpha=0.05)\n",
        "\n",
        "print(tukey)\n"
      ],
      "metadata": {
        "colab": {
          "base_uri": "https://localhost:8080/"
        },
        "id": "LhdfwL47XzLH",
        "outputId": "5ded740d-fca9-4d7d-d17d-d12170ea9e8b"
      },
      "execution_count": null,
      "outputs": [
        {
          "output_type": "stream",
          "name": "stdout",
          "text": [
            "Multiple Comparison of Means - Tukey HSD, FWER=0.05\n",
            "===================================================\n",
            "group1 group2 meandiff p-adj   lower  upper  reject\n",
            "---------------------------------------------------\n",
            "     1      2  -1.3265 0.0234  -2.456  -0.197  True \n",
            "     1      3  -0.6593 0.3089  -1.649  0.331  False\n",
            "     1      4  -0.5926 0.4272  -1.608  0.423  False\n",
            "     2      3   0.6672 0.2156  -0.349  1.683  False\n",
            "     2      4   0.7333 0.1974  -0.306  1.773  False\n",
            "     3      4   0.0667 0.9981  -0.923  1.057  False\n",
            "---------------------------------------------------\n"
          ]
        }
      ]
    },
    {
      "cell_type": "code",
      "source": [
        "'trust_in_telemed', 'responsible-securty',\n",
        "       'security_regulation_belief\\t', 'service-rating'"
      ],
      "metadata": {
        "id": "xXwB-B79nKEu"
      },
      "execution_count": null,
      "outputs": []
    },
    {
      "cell_type": "code",
      "source": [
        "correlation analysis"
      ],
      "metadata": {
        "colab": {
          "base_uri": "https://localhost:8080/",
          "height": 110
        },
        "id": "Q1Fq_u9ingtZ",
        "outputId": "f4eb423a-de18-433c-d0d2-0689627bef74"
      },
      "execution_count": null,
      "outputs": [
        {
          "output_type": "error",
          "ename": "SyntaxError",
          "evalue": "invalid syntax (ipython-input-49-1587160936.py, line 1)",
          "traceback": [
            "\u001b[0;36m  File \u001b[0;32m\"/tmp/ipython-input-49-1587160936.py\"\u001b[0;36m, line \u001b[0;32m1\u001b[0m\n\u001b[0;31m    correlation analysis\u001b[0m\n\u001b[0m                ^\u001b[0m\n\u001b[0;31mSyntaxError\u001b[0m\u001b[0;31m:\u001b[0m invalid syntax\n"
          ]
        }
      ]
    },
    {
      "cell_type": "code",
      "source": [
        "num_categories = df['trust_in_telemed'].nunique()\n",
        "print(\"Total categories:\", num_categories)\n",
        "print(\"value number\",df['trust_in_telemed'].value_counts())\n",
        "percentage_counts = df['trust_in_telemed'].value_counts(normalize=True) * 100\n",
        "print(percentage_counts)"
      ],
      "metadata": {
        "colab": {
          "base_uri": "https://localhost:8080/"
        },
        "id": "qA7e6vBsnlhq",
        "outputId": "80fb9934-21e5-4f35-cca5-8cb63d69094f"
      },
      "execution_count": null,
      "outputs": [
        {
          "output_type": "stream",
          "name": "stdout",
          "text": [
            "Total categories: 5\n",
            "value number trust_in_telemed\n",
            "Strongly Disagree    26\n",
            "Strongly Agree       25\n",
            "Disagree             22\n",
            "Moderately Agree     22\n",
            "Agree                13\n",
            "Name: count, dtype: int64\n",
            "trust_in_telemed\n",
            "Strongly Disagree    24.074074\n",
            "Strongly Agree       23.148148\n",
            "Disagree             20.370370\n",
            "Moderately Agree     20.370370\n",
            "Agree                12.037037\n",
            "Name: proportion, dtype: float64\n"
          ]
        }
      ]
    },
    {
      "cell_type": "code",
      "source": [
        "num_categories = df['responsible-securty'].nunique()\n",
        "print(\"Total categories:\", num_categories)\n",
        "print(\"value number\",df['responsible-securty'].value_counts())\n",
        "percentage_counts = df['responsible-securty'].value_counts(normalize=True) * 100\n",
        "print(percentage_counts)"
      ],
      "metadata": {
        "colab": {
          "base_uri": "https://localhost:8080/"
        },
        "id": "IwPAD_p7nyXc",
        "outputId": "e284ff3c-f539-4f76-b903-a57cb36356e2"
      },
      "execution_count": null,
      "outputs": [
        {
          "output_type": "stream",
          "name": "stdout",
          "text": [
            "Total categories: 4\n",
            "value number responsible-securty\n",
            "Healthcare professionals          36\n",
            "Telemedicine service providers    27\n",
            "Government regulatory bodies      24\n",
            "Patients themselves               21\n",
            "Name: count, dtype: int64\n",
            "responsible-securty\n",
            "Healthcare professionals          33.333333\n",
            "Telemedicine service providers    25.000000\n",
            "Government regulatory bodies      22.222222\n",
            "Patients themselves               19.444444\n",
            "Name: proportion, dtype: float64\n"
          ]
        }
      ]
    },
    {
      "cell_type": "code",
      "source": [
        "num_categories = df['security_regulation_belief\\t'].nunique()\n",
        "print(\"Total categories:\", num_categories)\n",
        "print(\"value number\",df['security_regulation_belief\\t'].value_counts())\n",
        "percentage_counts = df['security_regulation_belief\\t'].value_counts(normalize=True) * 100\n",
        "print(percentage_counts)"
      ],
      "metadata": {
        "colab": {
          "base_uri": "https://localhost:8080/"
        },
        "id": "ITqD8_NPoBmD",
        "outputId": "7d3c027c-086c-4c13-dc26-2da8fab38f00"
      },
      "execution_count": null,
      "outputs": [
        {
          "output_type": "stream",
          "name": "stdout",
          "text": [
            "Total categories: 4\n",
            "value number security_regulation_belief\\t\n",
            "Not confident           33\n",
            "Moderately confident    30\n",
            "Confident               24\n",
            "Very confident          21\n",
            "Name: count, dtype: int64\n",
            "security_regulation_belief\\t\n",
            "Not confident           30.555556\n",
            "Moderately confident    27.777778\n",
            "Confident               22.222222\n",
            "Very confident          19.444444\n",
            "Name: proportion, dtype: float64\n"
          ]
        }
      ]
    },
    {
      "cell_type": "code",
      "source": [
        "num_categories = df['security_regulation_belief\\t'].nunique()\n",
        "print(\"Total categories:\", num_categories)\n",
        "print(\"value number\",df['security_regulation_belief\\t'].value_counts())\n",
        "percentage_counts = df['security_regulation_belief\\t'].value_counts(normalize=True) * 100\n",
        "print(percentage_counts)"
      ],
      "metadata": {
        "colab": {
          "base_uri": "https://localhost:8080/"
        },
        "id": "_h-v1llBoLgA",
        "outputId": "e36ea3c3-f333-4299-8c44-38b998f913cd"
      },
      "execution_count": null,
      "outputs": [
        {
          "output_type": "stream",
          "name": "stdout",
          "text": [
            "Total categories: 4\n",
            "value number security_regulation_belief\\t\n",
            "Not confident           33\n",
            "Moderately confident    30\n",
            "Confident               24\n",
            "Very confident          21\n",
            "Name: count, dtype: int64\n",
            "security_regulation_belief\\t\n",
            "Not confident           30.555556\n",
            "Moderately confident    27.777778\n",
            "Confident               22.222222\n",
            "Very confident          19.444444\n",
            "Name: proportion, dtype: float64\n"
          ]
        }
      ]
    },
    {
      "cell_type": "code",
      "source": [
        "df['trust_in_telemed'] = df['trust_in_telemed'].replace({'Strongly Agree': 1, 'Agree': 2, 'Moderately Agree':3, 'Disagree':4, 'Strongly Disagree':5}).infer_objects(copy=False)\n",
        "df['responsible-securty'] = df['responsible-securty'].replace({'Telemedicine service providers': 1, 'Government regulatory bodies': 2, 'Healthcare professionals':3, 'Patients themselves':4}).infer_objects(copy=False)\n",
        "df['security_regulation_belief\\t'] = df['security_regulation_belief\\t'].replace({'Very confident': 1, 'Confident': 2, 'Moderately confident':3, 'Not confident':4}).infer_objects(copy=False)\n"
      ],
      "metadata": {
        "colab": {
          "base_uri": "https://localhost:8080/"
        },
        "id": "rQJ35YRIobdd",
        "outputId": "7a3708f3-f3d3-4d40-f03e-3e5496bbe0ed"
      },
      "execution_count": null,
      "outputs": [
        {
          "output_type": "stream",
          "name": "stderr",
          "text": [
            "/tmp/ipython-input-56-1681697311.py:1: FutureWarning: Downcasting behavior in `replace` is deprecated and will be removed in a future version. To retain the old behavior, explicitly call `result.infer_objects(copy=False)`. To opt-in to the future behavior, set `pd.set_option('future.no_silent_downcasting', True)`\n",
            "  df['trust_in_telemed'] = df['trust_in_telemed'].replace({'Strongly Agree': 1, 'Agree': 2, 'Moderately Agree':3, 'Disagree':4, 'Strongly Disagree':5}).infer_objects(copy=False)\n",
            "/tmp/ipython-input-56-1681697311.py:2: FutureWarning: Downcasting behavior in `replace` is deprecated and will be removed in a future version. To retain the old behavior, explicitly call `result.infer_objects(copy=False)`. To opt-in to the future behavior, set `pd.set_option('future.no_silent_downcasting', True)`\n",
            "  df['responsible-securty'] = df['responsible-securty'].replace({'Telemedicine service providers': 1, 'Government regulatory bodies': 2, 'Healthcare professionals':3, 'Patients themselves':4}).infer_objects(copy=False)\n",
            "/tmp/ipython-input-56-1681697311.py:3: FutureWarning: Downcasting behavior in `replace` is deprecated and will be removed in a future version. To retain the old behavior, explicitly call `result.infer_objects(copy=False)`. To opt-in to the future behavior, set `pd.set_option('future.no_silent_downcasting', True)`\n",
            "  df['security_regulation_belief\\t'] = df['security_regulation_belief\\t'].replace({'Very confident': 1, 'Confident': 2, 'Moderately confident':3, 'Not confident':4}).infer_objects(copy=False)\n"
          ]
        }
      ]
    },
    {
      "cell_type": "code",
      "source": [
        "df.to_excel(\"updated.xlsx\")\n",
        "from google.colab import files\n",
        "files.download('updated.xlsx')"
      ],
      "metadata": {
        "colab": {
          "base_uri": "https://localhost:8080/",
          "height": 17
        },
        "id": "HHILwP6xp_2L",
        "outputId": "55ca4ea4-f079-41ec-a08c-080d8a492082"
      },
      "execution_count": null,
      "outputs": [
        {
          "output_type": "display_data",
          "data": {
            "text/plain": [
              "<IPython.core.display.Javascript object>"
            ],
            "application/javascript": [
              "\n",
              "    async function download(id, filename, size) {\n",
              "      if (!google.colab.kernel.accessAllowed) {\n",
              "        return;\n",
              "      }\n",
              "      const div = document.createElement('div');\n",
              "      const label = document.createElement('label');\n",
              "      label.textContent = `Downloading \"${filename}\": `;\n",
              "      div.appendChild(label);\n",
              "      const progress = document.createElement('progress');\n",
              "      progress.max = size;\n",
              "      div.appendChild(progress);\n",
              "      document.body.appendChild(div);\n",
              "\n",
              "      const buffers = [];\n",
              "      let downloaded = 0;\n",
              "\n",
              "      const channel = await google.colab.kernel.comms.open(id);\n",
              "      // Send a message to notify the kernel that we're ready.\n",
              "      channel.send({})\n",
              "\n",
              "      for await (const message of channel.messages) {\n",
              "        // Send a message to notify the kernel that we're ready.\n",
              "        channel.send({})\n",
              "        if (message.buffers) {\n",
              "          for (const buffer of message.buffers) {\n",
              "            buffers.push(buffer);\n",
              "            downloaded += buffer.byteLength;\n",
              "            progress.value = downloaded;\n",
              "          }\n",
              "        }\n",
              "      }\n",
              "      const blob = new Blob(buffers, {type: 'application/binary'});\n",
              "      const a = document.createElement('a');\n",
              "      a.href = window.URL.createObjectURL(blob);\n",
              "      a.download = filename;\n",
              "      div.appendChild(a);\n",
              "      a.click();\n",
              "      div.remove();\n",
              "    }\n",
              "  "
            ]
          },
          "metadata": {}
        },
        {
          "output_type": "display_data",
          "data": {
            "text/plain": [
              "<IPython.core.display.Javascript object>"
            ],
            "application/javascript": [
              "download(\"download_682f557a-1095-46ae-b3dc-d934c5b6a71f\", \"updated.xlsx\", 17790)"
            ]
          },
          "metadata": {}
        }
      ]
    },
    {
      "cell_type": "code",
      "source": [],
      "metadata": {
        "id": "_mX4jvvdr21W"
      },
      "execution_count": null,
      "outputs": []
    },
    {
      "cell_type": "code",
      "source": [
        "import pandas as pd\n",
        "import seaborn as sns\n",
        "import matplotlib.pyplot as plt\n",
        "new_df = df[['trust_in_telemed', 'responsible-securty', 'security_regulation_belief']]\n",
        "\n",
        "correlation_matrix = new_df.corr(method='pearson')  # 'spearman' for ordinal data\n",
        "print(\"Correlation Matrix:\")\n",
        "print(correlation_matrix)\n",
        "\n",
        "# Visualization\n",
        "sns.heatmap(correlation_matrix, annot=True, cmap='coolwarm')\n",
        "plt.title(\"Correlation: Trust, Responsibility, and Security Regulation Belief\")\n",
        "plt.show()\n"
      ],
      "metadata": {
        "colab": {
          "base_uri": "https://localhost:8080/",
          "height": 799
        },
        "id": "bYi78Nymrr3F",
        "outputId": "5e1a0586-2a97-4639-ab33-45edb7c3cf3f"
      },
      "execution_count": null,
      "outputs": [
        {
          "output_type": "stream",
          "name": "stdout",
          "text": [
            "Correlation Matrix:\n",
            "                            trust_in_telemed  responsible-securty  \\\n",
            "trust_in_telemed                    1.000000             0.196931   \n",
            "responsible-securty                 0.196931             1.000000   \n",
            "security_regulation_belief          0.945732             0.078087   \n",
            "\n",
            "                            security_regulation_belief  \n",
            "trust_in_telemed                              0.945732  \n",
            "responsible-securty                           0.078087  \n",
            "security_regulation_belief                    1.000000  \n"
          ]
        },
        {
          "output_type": "display_data",
          "data": {
            "text/plain": [
              "<Figure size 640x480 with 2 Axes>"
            ],
            "image/png": "[encoded data removed]"
          },
          "metadata": {}
        }
      ]
    },
    {
      "cell_type": "code",
      "source": [
        "import pandas as pd\n",
        "import seaborn as sns\n",
        "import matplotlib.pyplot as plt\n",
        "from scipy.stats import pearsonr, f_oneway, ttest_ind\n",
        "\n",
        "# === Step 1: Example dataset (replace with your actual data) === #\n",
        "# Simulated data (Likert scale 1–5 or binary 0/1)\n",
        "data = {\n",
        "    'Q1': [4, 3, 5, 2, 4],\n",
        "    'Q2': [3, 2, 5, 1, 3],\n",
        "    'Q3': [5, 4, 5, 3, 4],\n",
        "    'Q4': [4, 3, 5, 2, 4],\n",
        "    'Q5': [5, 5, 5, 3, 4],\n",
        "    'Q6': [4, 4, 5, 2, 3],\n",
        "    'Q7': [2, 3, 4, 2, 3],\n",
        "    'Q8': [3, 2, 5, 1, 2],\n",
        "    'Q9': [4, 3, 5, 2, 3],\n",
        "    'Q10': [5, 4, 4, 3, 4],\n",
        "    'education': ['Undergraduate', 'Postgraduate', 'Postgraduate', 'Undergraduate', 'PhD']\n",
        "}\n",
        "df = pd.DataFrame(data)\n",
        "\n",
        "# === Step 2: Group creation === #\n",
        "privacy_cols = ['Q1', 'Q2', 'Q3', 'Q4', 'Q5', 'Q6']\n",
        "consent_cols = ['Q7', 'Q8', 'Q9', 'Q10']\n",
        "\n",
        "df['privacy_awareness_score'] = df[privacy_cols].mean(axis=1)\n",
        "df['informed_consent_score'] = df[consent_cols].mean(axis=1)\n",
        "\n",
        "# === Step 3: Correlation === #\n",
        "correlation, pval = pearsonr(df['privacy_awareness_score'], df['informed_consent_score'])\n",
        "print(f\"Pearson Correlation: {correlation:.3f}, p-value: {pval:.4f}\")\n",
        "\n",
        "# === Step 4: ANOVA example (by education) === #\n",
        "groups = df.groupby('education')['privacy_awareness_score'].apply(list)\n",
        "if len(groups) > 1:\n",
        "    f_stat, p_val = f_oneway(*groups)\n",
        "    print(f\"ANOVA (Privacy Awareness by Education): F = {f_stat:.3f}, p = {p_val:.4f}\")\n",
        "else:\n",
        "    print(\"ANOVA skipped: Only one education group present.\")\n",
        "\n",
        "# === Step 5: Visualization === #\n",
        "\n",
        "# Correlation heatmap\n",
        "corr_matrix = df[['privacy_awareness_score', 'informed_consent_score']].corr()\n",
        "sns.heatmap(corr_matrix, annot=True, cmap='coolwarm')\n",
        "plt.title(\"Correlation Matrix\")\n",
        "plt.show()\n",
        "\n",
        "# Boxplot by education\n",
        "plt.figure(figsize=(8, 4))\n",
        "sns.boxplot(x='education', y='privacy_awareness_score', data=df)\n",
        "plt.title(\"Privacy Awareness Score by Education Level\")\n",
        "plt.xticks(rotation=45)\n",
        "plt.tight_layout()\n",
        "plt.show()\n",
        "\n",
        "# Scatter plot\n",
        "sns.lmplot(x='privacy_awareness_score', y='informed_consent_score', data=df)\n",
        "plt.title(\"Privacy vs Informed Consent\")\n",
        "plt.show()\n"
      ],
      "metadata": {
        "id": "mxBlHBQBEeWN",
        "outputId": "17bbf8d1-febd-404c-bb66-a571fd99d53c",
        "colab": {
          "base_uri": "https://localhost:8080/",
          "height": 1000
        }
      },
      "execution_count": null,
      "outputs": [
        {
          "output_type": "stream",
          "name": "stdout",
          "text": [
            "Pearson Correlation: 0.987, p-value: 0.0018\n",
            "ANOVA (Privacy Awareness by Education): F = 0.376, p = 0.7267\n"
          ]
        },
        {
          "output_type": "display_data",
          "data": {
            "text/plain": [
              "<Figure size 640x480 with 2 Axes>"
            ],
            "image/png": "[encoded data removed]"
          },
          "metadata": {}
        },
        {
          "output_type": "display_data",
          "data": {
            "text/plain": [
              "<Figure size 800x400 with 1 Axes>"
            ],
            "image/png": "[encoded data removed]"
          },
          "metadata": {}
        },
        {
          "output_type": "display_data",
          "data": {
            "text/plain": [
              "<Figure size 500x500 with 1 Axes>"
            ],
            "image/png": "[encoded data removed]"
          },
          "metadata": {}
        }
      ]
    },
    {
      "cell_type": "code",
      "source": [
        "import statsmodels.api as sm\n",
        "\n",
        "X = df[['trust_security_score']]  # Predictor\n",
        "X = sm.add_constant(X)\n",
        "y = df['satisfaction']  # Replace with your target variable\n",
        "\n",
        "model = sm.OLS(y, X).fit()\n",
        "print(model.summary())"
      ],
      "metadata": {
        "colab": {
          "base_uri": "https://localhost:8080/",
          "height": 370
        },
        "id": "-y0kD24xNsEd",
        "outputId": "effa1f33-ddc3-4ce8-f5b7-16d80fb62b13"
      },
      "execution_count": null,
      "outputs": [
        {
          "output_type": "error",
          "ename": "KeyError",
          "evalue": "\"None of [Index(['trust_security_score'], dtype='object')] are in the [columns]\"",
          "traceback": [
            "\u001b[0;31m---------------------------------------------------------------------------\u001b[0m",
            "\u001b[0;31mKeyError\u001b[0m                                  Traceback (most recent call last)",
            "\u001b[0;32m/tmp/ipython-input-69-3661559888.py\u001b[0m in \u001b[0;36m<cell line: 0>\u001b[0;34m()\u001b[0m\n\u001b[1;32m      1\u001b[0m \u001b[0;32mimport\u001b[0m \u001b[0mstatsmodels\u001b[0m\u001b[0;34m.\u001b[0m\u001b[0mapi\u001b[0m \u001b[0;32mas\u001b[0m \u001b[0msm\u001b[0m\u001b[0;34m\u001b[0m\u001b[0;34m\u001b[0m\u001b[0m\n\u001b[1;32m      2\u001b[0m \u001b[0;34m\u001b[0m\u001b[0m\n\u001b[0;32m----> 3\u001b[0;31m \u001b[0mX\u001b[0m \u001b[0;34m=\u001b[0m \u001b[0mdf\u001b[0m\u001b[0;34m[\u001b[0m\u001b[0;34m[\u001b[0m\u001b[0;34m'trust_security_score'\u001b[0m\u001b[0;34m]\u001b[0m\u001b[0;34m]\u001b[0m  \u001b[0;31m# Predictor\u001b[0m\u001b[0;34m\u001b[0m\u001b[0;34m\u001b[0m\u001b[0m\n\u001b[0m\u001b[1;32m      4\u001b[0m \u001b[0mX\u001b[0m \u001b[0;34m=\u001b[0m \u001b[0msm\u001b[0m\u001b[0;34m.\u001b[0m\u001b[0madd_constant\u001b[0m\u001b[0;34m(\u001b[0m\u001b[0mX\u001b[0m\u001b[0;34m)\u001b[0m\u001b[0;34m\u001b[0m\u001b[0;34m\u001b[0m\u001b[0m\n\u001b[1;32m      5\u001b[0m \u001b[0my\u001b[0m \u001b[0;34m=\u001b[0m \u001b[0mdf\u001b[0m\u001b[0;34m[\u001b[0m\u001b[0;34m'satisfaction'\u001b[0m\u001b[0;34m]\u001b[0m  \u001b[0;31m# Replace with your target variable\u001b[0m\u001b[0;34m\u001b[0m\u001b[0;34m\u001b[0m\u001b[0m\n",
            "\u001b[0;32m/usr/local/lib/python3.11/dist-packages/pandas/core/frame.py\u001b[0m in \u001b[0;36m__getitem__\u001b[0;34m(self, key)\u001b[0m\n\u001b[1;32m   4106\u001b[0m             \u001b[0;32mif\u001b[0m \u001b[0mis_iterator\u001b[0m\u001b[0;34m(\u001b[0m\u001b[0mkey\u001b[0m\u001b[0;34m)\u001b[0m\u001b[0;34m:\u001b[0m\u001b[0;34m\u001b[0m\u001b[0;34m\u001b[0m\u001b[0m\n\u001b[1;32m   4107\u001b[0m                 \u001b[0mkey\u001b[0m \u001b[0;34m=\u001b[0m \u001b[0mlist\u001b[0m\u001b[0;34m(\u001b[0m\u001b[0mkey\u001b[0m\u001b[0;34m)\u001b[0m\u001b[0;34m\u001b[0m\u001b[0;34m\u001b[0m\u001b[0m\n\u001b[0;32m-> 4108\u001b[0;31m             \u001b[0mindexer\u001b[0m \u001b[0;34m=\u001b[0m \u001b[0mself\u001b[0m\u001b[0;34m.\u001b[0m\u001b[0mcolumns\u001b[0m\u001b[0;34m.\u001b[0m\u001b[0m_get_indexer_strict\u001b[0m\u001b[0;34m(\u001b[0m\u001b[0mkey\u001b[0m\u001b[0;34m,\u001b[0m \u001b[0;34m\"columns\"\u001b[0m\u001b[0;34m)\u001b[0m\u001b[0;34m[\u001b[0m\u001b[0;36m1\u001b[0m\u001b[0;34m]\u001b[0m\u001b[0;34m\u001b[0m\u001b[0;34m\u001b[0m\u001b[0m\n\u001b[0m\u001b[1;32m   4109\u001b[0m \u001b[0;34m\u001b[0m\u001b[0m\n\u001b[1;32m   4110\u001b[0m         \u001b[0;31m# take() does not accept boolean indexers\u001b[0m\u001b[0;34m\u001b[0m\u001b[0;34m\u001b[0m\u001b[0m\n",
            "\u001b[0;32m/usr/local/lib/python3.11/dist-packages/pandas/core/indexes/base.py\u001b[0m in \u001b[0;36m_get_indexer_strict\u001b[0;34m(self, key, axis_name)\u001b[0m\n\u001b[1;32m   6198\u001b[0m             \u001b[0mkeyarr\u001b[0m\u001b[0;34m,\u001b[0m \u001b[0mindexer\u001b[0m\u001b[0;34m,\u001b[0m \u001b[0mnew_indexer\u001b[0m \u001b[0;34m=\u001b[0m \u001b[0mself\u001b[0m\u001b[0;34m.\u001b[0m\u001b[0m_reindex_non_unique\u001b[0m\u001b[0;34m(\u001b[0m\u001b[0mkeyarr\u001b[0m\u001b[0;34m)\u001b[0m\u001b[0;34m\u001b[0m\u001b[0;34m\u001b[0m\u001b[0m\n\u001b[1;32m   6199\u001b[0m \u001b[0;34m\u001b[0m\u001b[0m\n\u001b[0;32m-> 6200\u001b[0;31m         \u001b[0mself\u001b[0m\u001b[0;34m.\u001b[0m\u001b[0m_raise_if_missing\u001b[0m\u001b[0;34m(\u001b[0m\u001b[0mkeyarr\u001b[0m\u001b[0;34m,\u001b[0m \u001b[0mindexer\u001b[0m\u001b[0;34m,\u001b[0m \u001b[0maxis_name\u001b[0m\u001b[0;34m)\u001b[0m\u001b[0;34m\u001b[0m\u001b[0;34m\u001b[0m\u001b[0m\n\u001b[0m\u001b[1;32m   6201\u001b[0m \u001b[0;34m\u001b[0m\u001b[0m\n\u001b[1;32m   6202\u001b[0m         \u001b[0mkeyarr\u001b[0m \u001b[0;34m=\u001b[0m \u001b[0mself\u001b[0m\u001b[0;34m.\u001b[0m\u001b[0mtake\u001b[0m\u001b[0;34m(\u001b[0m\u001b[0mindexer\u001b[0m\u001b[0;34m)\u001b[0m\u001b[0;34m\u001b[0m\u001b[0;34m\u001b[0m\u001b[0m\n",
            "\u001b[0;32m/usr/local/lib/python3.11/dist-packages/pandas/core/indexes/base.py\u001b[0m in \u001b[0;36m_raise_if_missing\u001b[0;34m(self, key, indexer, axis_name)\u001b[0m\n\u001b[1;32m   6247\u001b[0m         \u001b[0;32mif\u001b[0m \u001b[0mnmissing\u001b[0m\u001b[0;34m:\u001b[0m\u001b[0;34m\u001b[0m\u001b[0;34m\u001b[0m\u001b[0m\n\u001b[1;32m   6248\u001b[0m             \u001b[0;32mif\u001b[0m \u001b[0mnmissing\u001b[0m \u001b[0;34m==\u001b[0m \u001b[0mlen\u001b[0m\u001b[0;34m(\u001b[0m\u001b[0mindexer\u001b[0m\u001b[0;34m)\u001b[0m\u001b[0;34m:\u001b[0m\u001b[0;34m\u001b[0m\u001b[0;34m\u001b[0m\u001b[0m\n\u001b[0;32m-> 6249\u001b[0;31m                 \u001b[0;32mraise\u001b[0m \u001b[0mKeyError\u001b[0m\u001b[0;34m(\u001b[0m\u001b[0;34mf\"None of [{key}] are in the [{axis_name}]\"\u001b[0m\u001b[0;34m)\u001b[0m\u001b[0;34m\u001b[0m\u001b[0;34m\u001b[0m\u001b[0m\n\u001b[0m\u001b[1;32m   6250\u001b[0m \u001b[0;34m\u001b[0m\u001b[0m\n\u001b[1;32m   6251\u001b[0m             \u001b[0mnot_found\u001b[0m \u001b[0;34m=\u001b[0m \u001b[0mlist\u001b[0m\u001b[0;34m(\u001b[0m\u001b[0mensure_index\u001b[0m\u001b[0;34m(\u001b[0m\u001b[0mkey\u001b[0m\u001b[0;34m)\u001b[0m\u001b[0;34m[\u001b[0m\u001b[0mmissing_mask\u001b[0m\u001b[0;34m.\u001b[0m\u001b[0mnonzero\u001b[0m\u001b[0;34m(\u001b[0m\u001b[0;34m)\u001b[0m\u001b[0;34m[\u001b[0m\u001b[0;36m0\u001b[0m\u001b[0;34m]\u001b[0m\u001b[0;34m]\u001b[0m\u001b[0;34m.\u001b[0m\u001b[0munique\u001b[0m\u001b[0;34m(\u001b[0m\u001b[0;34m)\u001b[0m\u001b[0;34m)\u001b[0m\u001b[0;34m\u001b[0m\u001b[0;34m\u001b[0m\u001b[0m\n",
            "\u001b[0;31mKeyError\u001b[0m: \"None of [Index(['trust_security_score'], dtype='object')] are in the [columns]\""
          ]
        }
      ]
    },
    {
      "cell_type": "code",
      "source": [
        "df['like_more_conventional ']=df['like_more_conventional '].astype(int)\n",
        "# df['data_third-party ']=df['data_third-party '].astype(int)\n",
        "df['consent_type']=df['consent_type'].astype(int)\n",
        "df['consent_privacy']=df['consent_privacy'].astype(int)\n",
        "df[' promotional_messages_hospital']=df[' promotional_messages_hospital'].astype(int)\n",
        "\n",
        "df['trust_security_score'] = df[['like_more_conventional ', 'consent_type', 'consent_privacy',' promotional_messages_hospital']].mean(axis=1)"
      ],
      "metadata": {
        "id": "RPRKZN7GN89p"
      },
      "execution_count": null,
      "outputs": []
    },
    {
      "cell_type": "code",
      "source": [
        "df['trust_security_score']"
      ],
      "metadata": {
        "colab": {
          "base_uri": "https://localhost:8080/",
          "height": 458
        },
        "id": "jBd24zEHOCMp",
        "outputId": "5d1628b7-d39b-4e92-8750-4b26c412ca4d"
      },
      "execution_count": null,
      "outputs": [
        {
          "output_type": "execute_result",
          "data": {
            "text/plain": [
              "0      1.25\n",
              "1      2.25\n",
              "2      1.25\n",
              "3      0.75\n",
              "4      1.00\n",
              "       ... \n",
              "103    1.25\n",
              "104    2.00\n",
              "105    1.75\n",
              "106    1.50\n",
              "107    1.50\n",
              "Name: trust_security_score, Length: 108, dtype: float64"
            ],
            "text/html": [
              "<div>\n",
              "<style scoped>\n",
              "    .dataframe tbody tr th:only-of-type {\n",
              "        vertical-align: middle;\n",
              "    }\n",
              "\n",
              "    .dataframe tbody tr th {\n",
              "        vertical-align: top;\n",
              "    }\n",
              "\n",
              "    .dataframe thead th {\n",
              "        text-align: right;\n",
              "    }\n",
              "</style>\n",
              "<table border=\"1\" class=\"dataframe\">\n",
              "  <thead>\n",
              "    <tr style=\"text-align: right;\">\n",
              "      <th></th>\n",
              "      <th>trust_security_score</th>\n",
              "    </tr>\n",
              "  </thead>\n",
              "  <tbody>\n",
              "    <tr>\n",
              "      <th>0</th>\n",
              "      <td>1.25</td>\n",
              "    </tr>\n",
              "    <tr>\n",
              "      <th>1</th>\n",
              "      <td>2.25</td>\n",
              "    </tr>\n",
              "    <tr>\n",
              "      <th>2</th>\n",
              "      <td>1.25</td>\n",
              "    </tr>\n",
              "    <tr>\n",
              "      <th>3</th>\n",
              "      <td>0.75</td>\n",
              "    </tr>\n",
              "    <tr>\n",
              "      <th>4</th>\n",
              "      <td>1.00</td>\n",
              "    </tr>\n",
              "    <tr>\n",
              "      <th>...</th>\n",
              "      <td>...</td>\n",
              "    </tr>\n",
              "    <tr>\n",
              "      <th>103</th>\n",
              "      <td>1.25</td>\n",
              "    </tr>\n",
              "    <tr>\n",
              "      <th>104</th>\n",
              "      <td>2.00</td>\n",
              "    </tr>\n",
              "    <tr>\n",
              "      <th>105</th>\n",
              "      <td>1.75</td>\n",
              "    </tr>\n",
              "    <tr>\n",
              "      <th>106</th>\n",
              "      <td>1.50</td>\n",
              "    </tr>\n",
              "    <tr>\n",
              "      <th>107</th>\n",
              "      <td>1.50</td>\n",
              "    </tr>\n",
              "  </tbody>\n",
              "</table>\n",
              "<p>108 rows × 1 columns</p>\n",
              "</div><br><label><b>dtype:</b> float64</label>"
            ]
          },
          "metadata": {},
          "execution_count": 90
        }
      ]
    },
    {
      "cell_type": "code",
      "source": [
        "import scipy.stats as stats\n",
        "\n",
        "# ANOVA example\n",
        "groups = df.groupby('Education')['trust_security_score'].apply(list)\n",
        "if len(groups) > 1:\n",
        "    f_stat, p_val = stats.f_oneway(*groups)\n",
        "    print(f\"ANOVA result: F = {f_stat:.3f}, p = {p_val:.4f}\")\n"
      ],
      "metadata": {
        "colab": {
          "base_uri": "https://localhost:8080/"
        },
        "id": "2_YJqnvmRM1n",
        "outputId": "67996c8f-6c83-470b-a46c-00603fe2c85e"
      },
      "execution_count": null,
      "outputs": [
        {
          "output_type": "stream",
          "name": "stdout",
          "text": [
            "ANOVA result: F = 0.357, p = 0.8388\n"
          ]
        }
      ]
    },
    {
      "cell_type": "code",
      "source": [
        "group1 = df[df['Gender'] == 'Male']['trust_security_score']\n",
        "group2 = df[df['Gender'] == 'Female']['trust_security_score']\n",
        "t_stat, p_val = stats.ttest_ind(group1, group2)\n",
        "print(f\"T-test result: t = {t_stat:.3f}, p = {p_val:.4f}\")"
      ],
      "metadata": {
        "colab": {
          "base_uri": "https://localhost:8080/"
        },
        "id": "DL7wX0dTRTWW",
        "outputId": "b4669a85-109a-4826-f26d-5eb1e2245e0c"
      },
      "execution_count": null,
      "outputs": [
        {
          "output_type": "stream",
          "name": "stdout",
          "text": [
            "T-test result: t = -0.943, p = 0.3476\n"
          ]
        }
      ]
    },
    {
      "cell_type": "code",
      "source": [
        "import statsmodels.api as sm\n",
        "\n",
        "X = df[['trust_security_score']]  # Predictor\n",
        "X = sm.add_constant(X)\n",
        "y = df['Age']  # Replace with your target variable\n",
        "\n",
        "model = sm.OLS(y, X).fit()\n",
        "print(model.summary())\n",
        "v"
      ],
      "metadata": {
        "colab": {
          "base_uri": "https://localhost:8080/"
        },
        "id": "BO-xLUPXRhel",
        "outputId": "f9faf36d-82af-4044-95aa-a739fd375827"
      },
      "execution_count": null,
      "outputs": [
        {
          "output_type": "stream",
          "name": "stdout",
          "text": [
            "                            OLS Regression Results                            \n",
            "==============================================================================\n",
            "Dep. Variable:                    Age   R-squared:                       0.002\n",
            "Model:                            OLS   Adj. R-squared:                 -0.007\n",
            "Method:                 Least Squares   F-statistic:                    0.2579\n",
            "Date:                Wed, 25 Jun 2025   Prob (F-statistic):              0.613\n",
            "Time:                        13:28:11   Log-Likelihood:                -165.13\n",
            "No. Observations:                 108   AIC:                             334.3\n",
            "Df Residuals:                     106   BIC:                             339.6\n",
            "Df Model:                           1                                         \n",
            "Covariance Type:            nonrobust                                         \n",
            "========================================================================================\n",
            "                           coef    std err          t      P>|t|      [0.025      0.975]\n",
            "----------------------------------------------------------------------------------------\n",
            "const                    2.7144      0.383      7.086      0.000       1.955       3.474\n",
            "trust_security_score    -0.1161      0.229     -0.508      0.613      -0.570       0.337\n",
            "==============================================================================\n",
            "Omnibus:                       88.463   Durbin-Watson:                   1.891\n",
            "Prob(Omnibus):                  0.000   Jarque-Bera (JB):                8.400\n",
            "Skew:                          -0.063   Prob(JB):                       0.0150\n",
            "Kurtosis:                       1.640   Cond. No.                         7.90\n",
            "==============================================================================\n",
            "\n",
            "Notes:\n",
            "[1] Standard Errors assume that the covariance matrix of the errors is correctly specified.\n"
          ]
        }
      ]
    },
    {
      "cell_type": "code",
      "source": [
        "import pandas as pd\n",
        "import numpy as np\n",
        "\n",
        "# Sample data — replace with your actual data\n",
        "cols = ['like_more_conventional ',\n",
        "       'data_third_party ', ' promotional_messages_hospital',\n",
        "       'promotional_messages-other', 'consent_type', 'consent_privacy']\n",
        "subset = df[cols]\n",
        "\n",
        "# Cronbach's Alpha function\n",
        "def cronbach_alpha(df):\n",
        "    items = df.dropna(axis=0)  # remove any rows with NaN\n",
        "    k = items.shape[1]\n",
        "    item_variances = items.var(axis=0, ddof=1)\n",
        "    total_score = items.sum(axis=1)\n",
        "    total_variance = total_score.var(ddof=1)\n",
        "    alpha = (k / (k - 1)) * (1 - (item_variances.sum() / total_variance))\n",
        "    return alpha\n",
        "\n",
        "# Calculate and print alpha\n",
        "alpha = cronbach_alpha(subset)\n",
        "print(f\"Cronbach’s α: {alpha:.3f}\")\n"
      ],
      "metadata": {
        "colab": {
          "base_uri": "https://localhost:8080/"
        },
        "id": "2ddVS_JVdJUD",
        "outputId": "28c012b2-0b0e-4ff4-bc5b-797c7c0e7ca6"
      },
      "execution_count": null,
      "outputs": [
        {
          "output_type": "stream",
          "name": "stdout",
          "text": [
            "Cronbach’s α: -0.212\n"
          ]
        }
      ]
    },
    {
      "cell_type": "code",
      "source": [
        "df.columns"
      ],
      "metadata": {
        "colab": {
          "base_uri": "https://localhost:8080/"
        },
        "id": "hDFCPbaddK7c",
        "outputId": "7a89fe9c-6456-4e9b-a7c8-08cf79321592"
      },
      "execution_count": null,
      "outputs": [
        {
          "output_type": "execute_result",
          "data": {
            "text/plain": [
              "Index(['Unnamed: 0', 'Gender', 'Age', 'Education', 'disease',\n",
              "       'using_telemedicine_services', 'recommend_hospital',\n",
              "       'training_received', 'data_secure', 'like_more_conventional ',\n",
              "       'data_third_party ', ' promotional_messages_hospital',\n",
              "       'promotional_messages-other', 'consent_type', 'consent_privacy',\n",
              "       'consent _sessions)record', 'What PHI-related risks are disclosed?',\n",
              "       'care_about_misuse', ' seek_permission', 'cybersecurity_concern',\n",
              "       'data-leak-concern', 'trust_in_telemed', 'responsible-securty',\n",
              "       'security_regulation_belief\\t', 'service-rating',\n",
              "       'trust_security_score'],\n",
              "      dtype='object')"
            ]
          },
          "metadata": {},
          "execution_count": 95
        }
      ]
    },
    {
      "cell_type": "code",
      "source": [
        "import pandas as pd\n",
        "from pingouin import cronbach_alpha\n",
        "\n",
        "# Example dataset for 10 respondents\n",
        "data = {\n",
        "    'awareness':         [5, 4, 3, 5, 2, 4, 3, 5, 1, 4],\n",
        "    'confidence':        [4, 3, 2, 4, 1, 3, 2, 4, 1, 3],\n",
        "    'incident':          [3, 2, 1, 3, 2, 3, 1, 3, 1, 2],  # 3 = No, 2 = Not Sure, 1 = Yes\n",
        "    'training':          [4, 3, 2, 4, 1, 3, 2, 4, 1, 3],  # 4 = Regularly ... 1 = Never\n",
        "}\n",
        "\n",
        "df = pd.DataFrame(data)\n",
        "\n",
        "# Calculate Cronbach's alpha\n",
        "alpha, _ = cronbach_alpha(df)\n",
        "\n",
        "print(\"Cronbach's alpha:\", round(alpha, 3))\n"
      ],
      "metadata": {
        "colab": {
          "base_uri": "https://localhost:8080/"
        },
        "id": "VPiugtJc_Y-u",
        "outputId": "25e996b7-7181-46b8-9ee1-1479ef8f44d5"
      },
      "execution_count": 3,
      "outputs": [
        {
          "output_type": "stream",
          "name": "stdout",
          "text": [
            "Cronbach's alpha: 0.967\n"
          ]
        }
      ]
    },
    {
      "cell_type": "code",
      "source": [
        "!pip install pingouin"
      ],
      "metadata": {
        "colab": {
          "base_uri": "https://localhost:8080/"
        },
        "id": "FwTZmeE6_kid",
        "outputId": "4e66ff9e-9df7-46e1-f266-de01598bded5"
      },
      "execution_count": 2,
      "outputs": [
        {
          "output_type": "stream",
          "name": "stdout",
          "text": [
            "Collecting pingouin\n",
            "  Downloading pingouin-0.5.5-py3-none-any.whl.metadata (19 kB)\n",
            "Requirement already satisfied: matplotlib in /usr/local/lib/python3.11/dist-packages (from pingouin) (3.10.0)\n",
            "Requirement already satisfied: numpy in /usr/local/lib/python3.11/dist-packages (from pingouin) (2.0.2)\n",
            "Requirement already satisfied: pandas>=1.5 in /usr/local/lib/python3.11/dist-packages (from pingouin) (2.2.2)\n",
            "Collecting pandas-flavor (from pingouin)\n",
            "  Downloading pandas_flavor-0.7.0-py3-none-any.whl.metadata (6.7 kB)\n",
            "Requirement already satisfied: scikit-learn>=1.2 in /usr/local/lib/python3.11/dist-packages (from pingouin) (1.6.1)\n",
            "Requirement already satisfied: scipy in /usr/local/lib/python3.11/dist-packages (from pingouin) (1.15.3)\n",
            "Requirement already satisfied: seaborn in /usr/local/lib/python3.11/dist-packages (from pingouin) (0.13.2)\n",
            "Requirement already satisfied: statsmodels in /usr/local/lib/python3.11/dist-packages (from pingouin) (0.14.4)\n",
            "Requirement already satisfied: tabulate in /usr/local/lib/python3.11/dist-packages (from pingouin) (0.9.0)\n",
            "Requirement already satisfied: python-dateutil>=2.8.2 in /usr/local/lib/python3.11/dist-packages (from pandas>=1.5->pingouin) (2.9.0.post0)\n",
            "Requirement already satisfied: pytz>=2020.1 in /usr/local/lib/python3.11/dist-packages (from pandas>=1.5->pingouin) (2025.2)\n",
            "Requirement already satisfied: tzdata>=2022.7 in /usr/local/lib/python3.11/dist-packages (from pandas>=1.5->pingouin) (2025.2)\n",
            "Requirement already satisfied: joblib>=1.2.0 in /usr/local/lib/python3.11/dist-packages (from scikit-learn>=1.2->pingouin) (1.5.1)\n",
            "Requirement already satisfied: threadpoolctl>=3.1.0 in /usr/local/lib/python3.11/dist-packages (from scikit-learn>=1.2->pingouin) (3.6.0)\n",
            "Requirement already satisfied: contourpy>=1.0.1 in /usr/local/lib/python3.11/dist-packages (from matplotlib->pingouin) (1.3.2)\n",
            "Requirement already satisfied: cycler>=0.10 in /usr/local/lib/python3.11/dist-packages (from matplotlib->pingouin) (0.12.1)\n",
            "Requirement already satisfied: fonttools>=4.22.0 in /usr/local/lib/python3.11/dist-packages (from matplotlib->pingouin) (4.58.4)\n",
            "Requirement already satisfied: kiwisolver>=1.3.1 in /usr/local/lib/python3.11/dist-packages (from matplotlib->pingouin) (1.4.8)\n",
            "Requirement already satisfied: packaging>=20.0 in /usr/local/lib/python3.11/dist-packages (from matplotlib->pingouin) (24.2)\n",
            "Requirement already satisfied: pillow>=8 in /usr/local/lib/python3.11/dist-packages (from matplotlib->pingouin) (11.2.1)\n",
            "Requirement already satisfied: pyparsing>=2.3.1 in /usr/local/lib/python3.11/dist-packages (from matplotlib->pingouin) (3.2.3)\n",
            "Requirement already satisfied: xarray in /usr/local/lib/python3.11/dist-packages (from pandas-flavor->pingouin) (2025.3.1)\n",
            "Requirement already satisfied: patsy>=0.5.6 in /usr/local/lib/python3.11/dist-packages (from statsmodels->pingouin) (1.0.1)\n",
            "Requirement already satisfied: six>=1.5 in /usr/local/lib/python3.11/dist-packages (from python-dateutil>=2.8.2->pandas>=1.5->pingouin) (1.17.0)\n",
            "Downloading pingouin-0.5.5-py3-none-any.whl (204 kB)\n",
            "\u001b[2K   \u001b[90m━━━━━━━━━━━━━━━━━━━━━━━━━━━━━━━━━━━━━━━━\u001b[0m \u001b[32m204.4/204.4 kB\u001b[0m \u001b[31m3.8 MB/s\u001b[0m eta \u001b[36m0:00:00\u001b[0m\n",
            "\u001b[?25hDownloading pandas_flavor-0.7.0-py3-none-any.whl (8.4 kB)\n",
            "Installing collected packages: pandas-flavor, pingouin\n",
            "Successfully installed pandas-flavor-0.7.0 pingouin-0.5.5\n"
          ]
        }
      ]
    }
  ]
}